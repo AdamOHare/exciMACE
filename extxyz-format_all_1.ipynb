{
 "cells": [
  {
   "cell_type": "code",
   "execution_count": 1,
   "id": "cf53cbe5-173e-4209-a8e3-53d2cdaa8b49",
   "metadata": {},
   "outputs": [],
   "source": [
    "from ase.io import read, write\n",
    "from ase import Atoms\n",
    "from ase.units import Hartree, Bohr\n",
    "import numpy as np\n",
    "\n",
    "# Writing positions to atoms object\n",
    "path='rxn_data/PBE0/'\n",
    "\n",
    "traj = []\n",
    "with open (path+'GEOM_1', 'r') as file:\n",
    "    for line in file:\n",
    "        parts = line.strip().split()\n",
    "        elem = parts[1::4]\n",
    "        coords = np.array([parts[2::4], parts[3::4], parts[4::4]]).astype(float).T\n",
    "        traj += [Atoms(elem, coords)]\n"
   ]
  },
  {
   "cell_type": "code",
   "execution_count": 2,
   "id": "c5a43e13-e716-4256-8c5b-61cd24955f88",
   "metadata": {},
   "outputs": [],
   "source": [
    "# Writing energies to atoms object\n",
    "with open(path+'ENERGIES_1', 'r') as file:\n",
    "    for a, line in zip(traj, file):\n",
    "        parts = line.strip().split()\n",
    "        for i, eng in enumerate(parts[1:]):\n",
    "            a.info['REF'+str(i)+'_energy'] = float(eng)*Hartree"
   ]
  },
  {
   "cell_type": "code",
   "execution_count": 3,
   "id": "7b0059eb-5813-4d83-aa88-1ee6ad38399d",
   "metadata": {
    "scrolled": true
   },
   "outputs": [],
   "source": [
    "# Writing S0 forces to atoms object\n",
    "grad0 = []\n",
    "with open(path+'GRAD_1.S0', 'r') as file:\n",
    "    for line in file:\n",
    "        parts = line.strip().split()\n",
    "        forces0 = np.array([parts[2::4], parts[3::4], parts[4::4]]).astype(float).T\n",
    "        grad0 += [forces0]"
   ]
  },
  {
   "cell_type": "code",
   "execution_count": 4,
   "id": "75a10646-a069-4340-9d09-f83415e52889",
   "metadata": {},
   "outputs": [],
   "source": [
    "# Writing S1 forces to atoms object\n",
    "grad1 = []\n",
    "with open(path+'GRAD_1.S1', 'r') as file:\n",
    "    for line in file:\n",
    "        parts = line.strip().split()\n",
    "        forces1 = np.array([parts[2::4], parts[3::4], parts[4::4]]).astype(float).T\n",
    "        grad1 += [forces1]"
   ]
  },
  {
   "cell_type": "code",
   "execution_count": 5,
   "id": "a36cd941-8aca-4af3-ae51-585aea2ff411",
   "metadata": {},
   "outputs": [],
   "source": [
    "# Writing S2 forces to atoms object\n",
    "grad2 = []\n",
    "with open(path+'GRAD_1.S2', 'r') as file:\n",
    "    for line in file:\n",
    "        parts = line.strip().split()\n",
    "        forces2 = np.array([parts[2::4], parts[3::4], parts[4::4]]).astype(float).T\n",
    "        grad2 += [forces2]"
   ]
  },
  {
   "cell_type": "code",
   "execution_count": 6,
   "id": "d30c1ccf-3a49-43af-ad78-9318e1ef4ab8",
   "metadata": {},
   "outputs": [],
   "source": [
    "# Writing S3 forces to atoms object\n",
    "grad3 = []\n",
    "with open(path+'GRAD_1.S3', 'r') as file:\n",
    "    for line in file:\n",
    "        parts = line.strip().split()\n",
    "        forces3 = np.array([parts[2::4], parts[3::4], parts[4::4]]).astype(float).T\n",
    "        grad3 += [forces3]"
   ]
  },
  {
   "cell_type": "code",
   "execution_count": 7,
   "id": "5fa35b6a-2be5-4f0f-9750-489949a126d5",
   "metadata": {},
   "outputs": [],
   "source": [
    "# Set a force for each atom in the current atoms object\n",
    "for atoms, forces0, forces1, forces2, forces3 in zip(traj, grad0, grad1, grad2, grad3):\n",
    "    atoms.arrays['REF0_forces'] = -forces0 *Hartree/Bohr\n",
    "    atoms.arrays['REF1_forces'] = -forces1 *Hartree/Bohr\n",
    "    atoms.arrays['REF2_forces'] = -forces2 *Hartree/Bohr\n",
    "    atoms.arrays['REF3_forces'] = -forces3 *Hartree/Bohr"
   ]
  },
  {
   "cell_type": "code",
   "execution_count": 8,
   "id": "f97cc207-a57e-485a-8000-2f52dc5e3c01",
   "metadata": {},
   "outputs": [],
   "source": [
    "# Writing extended xyz file\n",
    "write ('data_all_1.xyz', traj)"
   ]
  },
  {
   "cell_type": "code",
   "execution_count": null,
   "id": "069cb910",
   "metadata": {},
   "outputs": [],
   "source": []
  }
 ],
 "metadata": {
  "kernelspec": {
   "display_name": "Python 3 (ipykernel)",
   "language": "python",
   "name": "python3"
  },
  "language_info": {
   "codemirror_mode": {
    "name": "ipython",
    "version": 3
   },
   "file_extension": ".py",
   "mimetype": "text/x-python",
   "name": "python",
   "nbconvert_exporter": "python",
   "pygments_lexer": "ipython3",
   "version": "3.11.8"
  }
 },
 "nbformat": 4,
 "nbformat_minor": 5
}
