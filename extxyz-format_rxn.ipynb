{
 "cells": [
  {
   "cell_type": "code",
   "execution_count": 1,
   "id": "cf53cbe5-173e-4209-a8e3-53d2cdaa8b49",
   "metadata": {},
   "outputs": [],
   "source": [
    "from ase.io import read, write\n",
    "from ase import Atoms\n",
    "from ase.units import Hartree, Bohr\n",
    "import numpy as np\n",
    "\n",
    "# Writing positions to atoms object\n",
    "path='rxn_data/liic/'\n",
    "\n",
    "rxn_files = [path+'ci0.s1.xyz', path+'s0.ci0.xyz', path+'s1.ci1.xyz', path+'s1.ci2.xyz', path+'s1.ci3.xyz']\n",
    "\n",
    "traj = []\n",
    "\n",
    "for rxn_file in rxn_files:\n",
    "    coords = read(rxn_file, ':')\n",
    "    traj.extend(coords)\n",
    "    #print(len(traj))"
   ]
  },
  {
   "cell_type": "code",
   "execution_count": 2,
   "id": "c5a43e13-e716-4256-8c5b-61cd24955f88",
   "metadata": {},
   "outputs": [],
   "source": [
    "# Writing energies to atoms object\n",
    "\n",
    "rxn_energies = [path+'ci0.s1.txt', path+'s0.ci0.txt', path+'s1.ci1.txt', path+'s1.ci2.txt', path+'s1.ci3.txt']\n",
    "energy_index = 0\n",
    "\n",
    "for rxn_energy in rxn_energies:\n",
    "     #print(rxn_energy)\n",
    "     with open(rxn_energy, 'r') as file:\n",
    "          for a, line in zip(traj, file):\n",
    "               parts = line.strip().split()\n",
    "               for i, eng in enumerate(parts[1:]):\n",
    "                    traj[energy_index].info['REF'+str(i)+'_energy'] = float(eng)*Hartree\n",
    "               energy_index += 1\n",
    "               #print(a.positions[-1])\n",
    "               #print(a.info)\n",
    "                    "
   ]
  },
  {
   "cell_type": "code",
   "execution_count": 3,
   "id": "fb02c80d",
   "metadata": {},
   "outputs": [],
   "source": [
    "#print(traj[-1].positions[-1])\n",
    "#print(traj[-1].info)"
   ]
  },
  {
   "cell_type": "code",
   "execution_count": 4,
   "id": "f97cc207-a57e-485a-8000-2f52dc5e3c01",
   "metadata": {},
   "outputs": [],
   "source": [
    "# Writing extended xyz file\n",
    "write ('rxn_coords.xyz', traj)"
   ]
  },
  {
   "cell_type": "code",
   "execution_count": null,
   "id": "058b7cdf",
   "metadata": {},
   "outputs": [],
   "source": []
  }
 ],
 "metadata": {
  "kernelspec": {
   "display_name": "Python 3 (ipykernel)",
   "language": "python",
   "name": "python3"
  },
  "language_info": {
   "codemirror_mode": {
    "name": "ipython",
    "version": 3
   },
   "file_extension": ".py",
   "mimetype": "text/x-python",
   "name": "python",
   "nbconvert_exporter": "python",
   "pygments_lexer": "ipython3",
   "version": "3.11.8"
  }
 },
 "nbformat": 4,
 "nbformat_minor": 5
}
